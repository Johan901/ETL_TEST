{
 "cells": [
  {
   "cell_type": "markdown",
   "metadata": {},
   "source": [
    "CARGA"
   ]
  },
  {
   "cell_type": "code",
   "execution_count": null,
   "metadata": {},
   "outputs": [],
   "source": [
    "import pandas as pd\n",
    "\n",
    "# Cargar el dataset\n",
    "file_path = 'cdc_raw_data.csv'\n",
    "df = pd.read_csv(file_path)\n",
    "\n",
    "# Mostrar las primeras filas y la información del dataset\n",
    "print(\"Dimensiones del dataset:\", df.shape)\n",
    "print(\"Primeras filas:\\n\", df.head())\n",
    "print(\"Información del dataset:\\n\")\n",
    "df.info()\n"
   ]
  },
  {
   "cell_type": "markdown",
   "metadata": {},
   "source": [
    "Detección y Tratamiento de Valores Faltantes"
   ]
  },
  {
   "cell_type": "code",
   "execution_count": null,
   "metadata": {},
   "outputs": [],
   "source": [
    "# Resumen de los valores faltantes\n",
    "missing_data = df.isnull().sum()\n",
    "missing_percentage = (df.isnull().sum() / len(df)) * 100\n",
    "missing_summary = pd.DataFrame({'missing_count': missing_data, 'missing_percentage': missing_percentage})\n",
    "\n",
    "print(\"Valores faltantes:\\n\", missing_summary)\n",
    "\n",
    "# Dado que no hay muchas columnas, se puede optar por eliminar las filas con valores faltantes\n",
    "df_cleaned = df.dropna()\n",
    "print(\"Dimensiones después de limpiar valores nulos:\", df_cleaned.shape)\n"
   ]
  },
  {
   "cell_type": "markdown",
   "metadata": {},
   "source": [
    "Análisis Descriptivo de Variables"
   ]
  },
  {
   "cell_type": "code",
   "execution_count": null,
   "metadata": {},
   "outputs": [],
   "source": [
    "# Resumen estadístico de las variables numéricas\n",
    "print(\"\\nResumen estadístico de variables numéricas:\\n\", df_cleaned.describe())\n",
    "\n",
    "# Distribución de variables categóricas\n",
    "print(\"\\nDistribución de 'cause_name':\\n\", df_cleaned['cause_name'].value_counts())"
   ]
  },
  {
   "cell_type": "markdown",
   "metadata": {},
   "source": [
    "Detección de Outliers"
   ]
  },
  {
   "cell_type": "code",
   "execution_count": null,
   "metadata": {},
   "outputs": [],
   "source": [
    "# Función para detectar outliers usando IQR\n",
    "def detect_outliers(df, column):\n",
    "    Q1 = df[column].quantile(0.25)\n",
    "    Q3 = df[column].quantile(0.75)\n",
    "    IQR = Q3 - Q1\n",
    "    lower_bound = Q1 - 1.5 * IQR\n",
    "    upper_bound = Q3 + 1.5 * IQR\n",
    "    outliers = df[(df[column] < lower_bound) | (df[column] > upper_bound)]\n",
    "    return outliers\n",
    "\n",
    "# Detectar outliers en 'deaths' y 'aadr'\n",
    "outliers_deaths = detect_outliers(df_cleaned, 'deaths')\n",
    "outliers_aadr = detect_outliers(df_cleaned, 'aadr')\n",
    "\n",
    "print(\"Outliers detectados en 'deaths':\\n\", outliers_deaths)\n",
    "print(\"Outliers detectados en 'aadr':\\n\", outliers_aadr)"
   ]
  },
  {
   "cell_type": "markdown",
   "metadata": {},
   "source": [
    "Visualización de Datos"
   ]
  },
  {
   "cell_type": "code",
   "execution_count": null,
   "metadata": {},
   "outputs": [],
   "source": [
    "import seaborn as sns\n",
    "import matplotlib.pyplot as plt\n",
    "\n",
    "# Histograma de la variable 'deaths'\n",
    "plt.figure(figsize=(10, 6))\n",
    "sns.histplot(df_cleaned['deaths'], bins=30, kde=True)\n",
    "plt.title('Distribución de Muertes')\n",
    "plt.show()\n",
    "\n",
    "# Gráfico de barras para 'state'\n",
    "plt.figure(figsize=(10, 6))\n",
    "sns.countplot(x='state', data=df_cleaned, order=df_cleaned['state'].value_counts().index)\n",
    "plt.xticks(rotation=90)\n",
    "plt.title('Distribución por Estado')\n",
    "plt.show()\n",
    "\n",
    "# Matriz de correlación\n",
    "plt.figure(figsize=(8, 6))\n",
    "sns.heatmap(df_cleaned[['deaths', 'aadr']].corr(), annot=True, cmap='coolwarm')\n",
    "plt.title('Matriz de Correlación entre Muertes y AADR')\n",
    "plt.show()"
   ]
  },
  {
   "cell_type": "markdown",
   "metadata": {},
   "source": [
    "Distribución de muertes por año"
   ]
  },
  {
   "cell_type": "code",
   "execution_count": null,
   "metadata": {},
   "outputs": [],
   "source": [
    "plt.figure(figsize=(10, 6))\n",
    "sns.countplot(x='year', data=df_cleaned, order=df_cleaned['year'].value_counts().sort_index().index)\n",
    "plt.title('Número de Muertes por Año')\n",
    "plt.xticks(rotation=45)\n",
    "plt.show()"
   ]
  },
  {
   "cell_type": "markdown",
   "metadata": {},
   "source": [
    "Principales 10 causas de muerte en los últimos 5 años"
   ]
  },
  {
   "cell_type": "code",
   "execution_count": null,
   "metadata": {},
   "outputs": [],
   "source": [
    "recent_years = df_cleaned[df_cleaned['year'] >= 2015]\n",
    "top_causes = recent_years['cause_name'].value_counts().nlargest(10).index\n",
    "\n",
    "plt.figure(figsize=(12, 6))\n",
    "sns.countplot(y='cause_name', data=recent_years[recent_years['cause_name'].isin(top_causes)], \n",
    "              order=recent_years['cause_name'].value_counts().nlargest(10).index)\n",
    "plt.title('Principales 10 Causas de Muerte (2015-2020)')\n",
    "plt.show()"
   ]
  },
  {
   "cell_type": "markdown",
   "metadata": {},
   "source": [
    "Tendencias de muertes para las principales causas (agrupación por año)"
   ]
  },
  {
   "cell_type": "code",
   "execution_count": null,
   "metadata": {},
   "outputs": [],
   "source": [
    "# Tendencias de muertes para las principales causas\n",
    "plt.figure(figsize=(12, 6))\n",
    "for cause in top_causes:\n",
    "    cause_trend = recent_years[recent_years['cause_name'] == cause].groupby('year')['deaths'].sum()\n",
    "    sns.lineplot(x=cause_trend.index, y=cause_trend.values, label=cause)\n",
    "\n",
    "plt.title('Tendencias de Muertes para las Principales Causas (2015-2020)')\n",
    "plt.ylabel('Número de Muertes')\n",
    "plt.xlabel('Año')\n",
    "plt.legend(title='Causa')\n",
    "plt.show()"
   ]
  },
  {
   "cell_type": "markdown",
   "metadata": {},
   "source": [
    "Análisis de correlación detallada entre muertes y AADR"
   ]
  },
  {
   "cell_type": "code",
   "execution_count": null,
   "metadata": {},
   "outputs": [],
   "source": [
    "plt.figure(figsize=(10, 8))\n",
    "sns.pairplot(df_cleaned[['deaths', 'aadr']])\n",
    "plt.suptitle('Correlación entre Muertes y Tasa Ajustada de Edad', y=1.02)\n",
    "plt.show()"
   ]
  },
  {
   "cell_type": "markdown",
   "metadata": {},
   "source": [
    "Muertes agrupadas por estado y causa"
   ]
  },
  {
   "cell_type": "code",
   "execution_count": null,
   "metadata": {},
   "outputs": [],
   "source": [
    "state_cause_group = df_cleaned.groupby(['state', 'cause_name'])['deaths'].sum().unstack().fillna(0)\n",
    "print(\"Muertes agrupadas por Estado y Causa:\\n\", state_cause_group.head())"
   ]
  },
  {
   "cell_type": "markdown",
   "metadata": {},
   "source": [
    "Boxplot de la tasa ajustada de mortalidad por edad (AADR) por año\n"
   ]
  },
  {
   "cell_type": "code",
   "execution_count": null,
   "metadata": {},
   "outputs": [],
   "source": [
    "# Boxplot de AADR por año\n",
    "plt.figure(figsize=(10, 6))\n",
    "sns.boxplot(x='year', y='aadr', data=df_cleaned)\n",
    "plt.title('Boxplot de Tasa Ajustada de Mortalidad por Edad (AADR) por Año')\n",
    "plt.xticks(rotation=45)\n",
    "plt.show()"
   ]
  },
  {
   "cell_type": "markdown",
   "metadata": {},
   "source": [
    "Exportar"
   ]
  },
  {
   "cell_type": "code",
   "execution_count": null,
   "metadata": {},
   "outputs": [],
   "source": [
    "output_file_path = \"cleaned_cdc_data.csv\"  # Puedes cambiar la ruta si es necesario\n",
    "df_cleaned.to_csv(output_file_path, index=False)\n",
    "print(f\"Datos limpios exportados a {output_file_path}\")"
   ]
  }
 ],
 "metadata": {
  "language_info": {
   "name": "python"
  }
 },
 "nbformat": 4,
 "nbformat_minor": 2
}
