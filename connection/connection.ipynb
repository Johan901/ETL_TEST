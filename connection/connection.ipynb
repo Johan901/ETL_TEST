{
 "cells": [
  {
   "cell_type": "code",
   "execution_count": 23,
   "metadata": {},
   "outputs": [],
   "source": [
    "import pandas as pd\n",
    "\n",
    "# Leer el archivo CSV\n",
    "df = pd.read_csv('../dataset/diabetes_data.csv')"
   ]
  },
  {
   "cell_type": "code",
   "execution_count": 24,
   "metadata": {},
   "outputs": [
    {
     "name": "stdout",
     "output_type": "stream",
     "text": [
      "Tabla 'diabetes_data' creada con éxito en la base de datos.\n"
     ]
    }
   ],
   "source": [
    "import psycopg2\n",
    "import json\n",
    "\n",
    "def create_connection():\n",
    "    \"\"\"Establece una conexión con la base de datos PostgreSQL.\"\"\"\n",
    "    try:\n",
    "        # Leer las credenciales desde el archivo JSON\n",
    "        with open('../credentials.json') as f:\n",
    "            credentials = json.load(f)\n",
    "        \n",
    "        user = credentials['user']\n",
    "        password = credentials['password']\n",
    "        host = credentials['host']\n",
    "        port = credentials['port']\n",
    "        database = 'diabetes_data'\n",
    "        \n",
    "        # Establecer la conexión\n",
    "        connection = psycopg2.connect(\n",
    "            dbname=database,\n",
    "            user=user,\n",
    "            password=password,\n",
    "            host=host,\n",
    "            port=port\n",
    "        )\n",
    "        return connection\n",
    "    except psycopg2.OperationalError as e:\n",
    "        print(f\"Error al conectar a la base de datos: {e}\")\n",
    "        return None\n",
    "\n",
    "def create_table():\n",
    "    \"\"\"Crea la tabla 'diabetes_data' en la base de datos PostgreSQL.\"\"\"\n",
    "    connection = create_connection()\n",
    "    if connection is not None:\n",
    "        try:\n",
    "            cursor = connection.cursor()\n",
    "            cursor.execute(\"\"\"\n",
    "                CREATE TABLE IF NOT EXISTS diabetes_data (\n",
    "                    PatientID SERIAL PRIMARY KEY,\n",
    "                    Age INT,\n",
    "                    Gender VARCHAR(50),\n",
    "                    Ethnicity VARCHAR(100),\n",
    "                    SocioeconomicStatus VARCHAR(100),\n",
    "                    EducationLevel VARCHAR(100),\n",
    "                    BMI FLOAT,\n",
    "                    Smoking VARCHAR(50),\n",
    "                    AlcoholConsumption VARCHAR(50),\n",
    "                    PhysicalActivity VARCHAR(50),\n",
    "                    DietQuality VARCHAR(50),\n",
    "                    SleepQuality VARCHAR(50),\n",
    "                    FamilyHistoryDiabetes VARCHAR(50),\n",
    "                    GestationalDiabetes VARCHAR(50),\n",
    "                    PolycysticOvarySyndrome VARCHAR(50),\n",
    "                    PreviousPreDiabetes VARCHAR(50),\n",
    "                    Hypertension VARCHAR(50),\n",
    "                    SystolicBP FLOAT,\n",
    "                    DiastolicBP FLOAT,\n",
    "                    FastingBloodSugar FLOAT,\n",
    "                    HbA1c FLOAT,\n",
    "                    SerumCreatinine FLOAT,\n",
    "                    BUNLevels FLOAT,\n",
    "                    CholesterolTotal FLOAT,\n",
    "                    CholesterolLDL FLOAT,\n",
    "                    CholesterolHDL FLOAT,\n",
    "                    CholesterolTriglycerides FLOAT,\n",
    "                    AntihypertensiveMedications VARCHAR(100),\n",
    "                    Statins VARCHAR(100),\n",
    "                    AntidiabeticMedications VARCHAR(100),\n",
    "                    FrequentUrination VARCHAR(50),\n",
    "                    ExcessiveThirst VARCHAR(50),\n",
    "                    UnexplainedWeightLoss VARCHAR(50),\n",
    "                    FatigueLevels VARCHAR(50),\n",
    "                    BlurredVision VARCHAR(50),\n",
    "                    SlowHealingSores VARCHAR(50),\n",
    "                    TinglingHandsFeet VARCHAR(50),\n",
    "                    QualityOfLifeScore FLOAT,\n",
    "                    HeavyMetalsExposure VARCHAR(50),\n",
    "                    OccupationalExposureChemicals VARCHAR(50),\n",
    "                    WaterQuality VARCHAR(50),\n",
    "                    MedicalCheckupsFrequency VARCHAR(50),\n",
    "                    MedicationAdherence VARCHAR(50),\n",
    "                    HealthLiteracy VARCHAR(50),\n",
    "                    Diagnosis VARCHAR(100),\n",
    "                    DoctorInCharge VARCHAR(100)\n",
    "                );\n",
    "            \"\"\")\n",
    "            connection.commit()\n",
    "            print(\"Tabla 'diabetes_data' creada con éxito en la base de datos.\")\n",
    "        except psycopg2.Error as e:\n",
    "            print(f\"Error al crear la tabla: {e}\")\n",
    "        finally:\n",
    "            cursor.close()\n",
    "            connection.close()\n",
    "    else:\n",
    "        print(\"No se pudo establecer la conexión con la base de datos.\")\n",
    "\n",
    "create_table()\n"
   ]
  },
  {
   "cell_type": "code",
   "execution_count": 29,
   "metadata": {},
   "outputs": [
    {
     "name": "stdout",
     "output_type": "stream",
     "text": [
      "Datos insertados exitosamente\n"
     ]
    }
   ],
   "source": [
    "def insertar_datos_diabetes(df):\n",
    "    \"\"\"Inserta datos desde un DataFrame en la tabla 'diabetes_data'.\"\"\"\n",
    "    connection = create_connection()\n",
    "    if connection is not None:\n",
    "        cursor = connection.cursor()\n",
    "        query = \"\"\"\n",
    "        INSERT INTO diabetes_data (\n",
    "            PatientID, Age, Gender, Ethnicity, SocioeconomicStatus, EducationLevel,\n",
    "            BMI, Smoking, AlcoholConsumption, PhysicalActivity, DietQuality, SleepQuality,\n",
    "            FamilyHistoryDiabetes, GestationalDiabetes, PolycysticOvarySyndrome, PreviousPreDiabetes,\n",
    "            Hypertension, SystolicBP, DiastolicBP, FastingBloodSugar, HbA1c, SerumCreatinine,\n",
    "            BUNLevels, CholesterolTotal, CholesterolLDL, CholesterolHDL, CholesterolTriglycerides,\n",
    "            AntihypertensiveMedications, Statins, AntidiabeticMedications, FrequentUrination,\n",
    "            ExcessiveThirst, UnexplainedWeightLoss, FatigueLevels, BlurredVision, SlowHealingSores,\n",
    "            TinglingHandsFeet, QualityOfLifeScore, HeavyMetalsExposure, OccupationalExposureChemicals,\n",
    "            WaterQuality, MedicalCheckupsFrequency, MedicationAdherence, HealthLiteracy, Diagnosis,\n",
    "            DoctorInCharge\n",
    "        ) VALUES (\n",
    "            %(PatientID)s, %(Age)s, %(Gender)s, %(Ethnicity)s, %(SocioeconomicStatus)s, %(EducationLevel)s,\n",
    "            %(BMI)s, %(Smoking)s, %(AlcoholConsumption)s, %(PhysicalActivity)s, %(DietQuality)s, %(SleepQuality)s,\n",
    "            %(FamilyHistoryDiabetes)s, %(GestationalDiabetes)s, %(PolycysticOvarySyndrome)s, %(PreviousPreDiabetes)s,\n",
    "            %(Hypertension)s, %(SystolicBP)s, %(DiastolicBP)s, %(FastingBloodSugar)s, %(HbA1c)s, %(SerumCreatinine)s,\n",
    "            %(BUNLevels)s, %(CholesterolTotal)s, %(CholesterolLDL)s, %(CholesterolHDL)s, %(CholesterolTriglycerides)s,\n",
    "            %(AntihypertensiveMedications)s, %(Statins)s, %(AntidiabeticMedications)s, %(FrequentUrination)s,\n",
    "            %(ExcessiveThirst)s, %(UnexplainedWeightLoss)s, %(FatigueLevels)s, %(BlurredVision)s, %(SlowHealingSores)s,\n",
    "            %(TinglingHandsFeet)s, %(QualityOfLifeScore)s, %(HeavyMetalsExposure)s, %(OccupationalExposureChemicals)s,\n",
    "            %(WaterQuality)s, %(MedicalCheckupsFrequency)s, %(MedicationAdherence)s, %(HealthLiteracy)s, %(Diagnosis)s,\n",
    "            %(DoctorInCharge)s\n",
    "        )\n",
    "        \"\"\"\n",
    "        try:\n",
    "            for index, row in df.iterrows():\n",
    "                data = row.to_dict()\n",
    "                cursor.execute(query, data)\n",
    "            connection.commit()\n",
    "            print(\"Datos insertados exitosamente\")\n",
    "        except (Exception, psycopg2.DatabaseError) as error:\n",
    "            print(f\"Error al insertar datos: {error}\")\n",
    "        finally:\n",
    "            cursor.close()\n",
    "            connection.close()\n",
    "    else:\n",
    "        print(\"No se pudo establecer la conexión con la base de datos.\")\n",
    "\n",
    "\n",
    "# Insertar los datos en la base de datos\n",
    "insertar_datos_diabetes(df)"
   ]
  },
  {
   "cell_type": "code",
   "execution_count": 31,
   "metadata": {},
   "outputs": [
    {
     "name": "stdout",
     "output_type": "stream",
     "text": [
      "Número de filas en la tabla 'diabetes_data': 1879\n"
     ]
    }
   ],
   "source": [
    "def contar_filas_diabetes():\n",
    "    \"\"\"Cuenta el número de filas en la tabla 'diabetes_data'.\"\"\"\n",
    "    connection = create_connection()\n",
    "    if connection is not None:\n",
    "        cursor = connection.cursor()\n",
    "        try:\n",
    "            cursor.execute(\"SELECT COUNT(*) FROM diabetes_data;\")\n",
    "            count = cursor.fetchone()[0]\n",
    "            print(f\"Número de filas en la tabla 'diabetes_data': {count}\")\n",
    "        except (Exception, psycopg2.DatabaseError) as error:\n",
    "            print(f\"Error al contar filas: {error}\")\n",
    "        finally:\n",
    "            cursor.close()\n",
    "            connection.close()\n",
    "    else:\n",
    "        print(\"No se pudo establecer la conexión con la base de datos.\")\n",
    "\n",
    "contar_filas_diabetes()\n"
   ]
  },
  {
   "cell_type": "code",
   "execution_count": 33,
   "metadata": {},
   "outputs": [
    {
     "name": "stdout",
     "output_type": "stream",
     "text": [
      "La tabla 'diabetes_data' tiene 46 columnas.\n"
     ]
    }
   ],
   "source": [
    "def contar_columnas(tabla):\n",
    "    \"\"\"Cuenta el número de columnas en una tabla específica.\"\"\"\n",
    "    connection = create_connection()\n",
    "    if connection is not None:\n",
    "        try:\n",
    "            cursor = connection.cursor()\n",
    "            # Consulta para obtener las columnas de la tabla\n",
    "            query = \"\"\"\n",
    "            SELECT COUNT(*) \n",
    "            FROM information_schema.columns \n",
    "            WHERE table_name = %s;\n",
    "            \"\"\"\n",
    "            cursor.execute(query, (tabla,))\n",
    "            count = cursor.fetchone()[0]\n",
    "            print(f\"La tabla '{tabla}' tiene {count} columnas.\")\n",
    "        except (Exception, psycopg2.DatabaseError) as error:\n",
    "            print(f\"Error al contar columnas: {error}\")\n",
    "        finally:\n",
    "            cursor.close()\n",
    "            connection.close()\n",
    "    else:\n",
    "        print(\"No se pudo establecer la conexión con la base de datos.\")\n",
    "\n",
    "# Reemplaza 'diabetes_data' con el nombre de tu tabla\n",
    "contar_columnas('diabetes_data')"
   ]
  },
  {
   "cell_type": "code",
   "execution_count": 34,
   "metadata": {},
   "outputs": [
    {
     "name": "stdout",
     "output_type": "stream",
     "text": [
      "Resultados de la tabla 'diabetes_data':\n",
      "patientid | age | gender | ethnicity | socioeconomicstatus | educationlevel | bmi | smoking | alcoholconsumption | physicalactivity | dietquality | sleepquality | familyhistorydiabetes | gestationaldiabetes | polycysticovarysyndrome | previousprediabetes | hypertension | systolicbp | diastolicbp | fastingbloodsugar | hba1c | serumcreatinine | bunlevels | cholesteroltotal | cholesterolldl | cholesterolhdl | cholesteroltriglycerides | antihypertensivemedications | statins | antidiabeticmedications | frequenturination | excessivethirst | unexplainedweightloss | fatiguelevels | blurredvision | slowhealingsores | tinglinghandsfeet | qualityoflifescore | heavymetalsexposure | occupationalexposurechemicals | waterquality | medicalcheckupsfrequency | medicationadherence | healthliteracy | diagnosis | doctorincharge\n",
      "(6000, 44, '0', '1', '2', '1', 32.98528363147953, '1', '4.499364662559289', '2.443385277880059', '4.898831055237948', '4.049885278422252', '1', '1', '0', '0', '0', 93.0, 73.0, 163.68716215716134, 9.28363131656192, 2.665606678134762, 28.190146986414845, 254.2706704155173, 86.99362677931671, 70.80146907342441, 190.33583366129025, '0', '0', '1', '0', '0', '0', '9.534168794136852', '0', '0', '1', 73.7651091568668, '0', '0', '0', '1.7827242506960626', '4.486979557412981', '7.2113489367727475', '1', 'Confidential')\n",
      "(6001, 51, '1', '0', '1', '2', 39.916764125880974, '0', '1.578919022031171', '8.301264419669659', '8.941093370790366', '7.508150416102007', '0', '0', '0', '0', '0', 165.0, 99.0, 188.3470703890969, 7.326870499343778, 4.172176747126118, 32.149490562754906, 155.3588312736898, 110.05610507002493, 39.90011154296137, 81.17246850968958, '0', '0', '0', '0', '0', '0', '0.1232139897112838', '0', '0', '0', 91.4457528301502, '0', '0', '1', '3.381069654567674', '5.961704862944367', '5.024612227805186', '1', 'Confidential')\n",
      "(6002, 89, '1', '0', '1', '3', 19.78225130010097, '0', '1.1773011585548998', '6.103395048386896', '7.722543086655254', '7.708387493140089', '1', '0', '0', '0', '0', 119.0, 91.0, 127.70365327812354, 4.083425702071104, 1.9731681773438887, 10.018375268929027, 231.60892248874177, 62.03579285319309, 62.48066593039718, 279.8090694658932, '1', '1', '0', '0', '0', '0', '9.643320371692225', '0', '0', '0', 54.48574422190213, '0', '0', '0', '2.701018729497643', '8.950820518722507', '7.0349436990025485', '0', 'Confidential')\n"
     ]
    }
   ],
   "source": [
    "def mostrar_primeros_resultados(tabla, num_filas=3):\n",
    "    \"\"\"Muestra las primeras 'num_filas' filas de una tabla específica.\"\"\"\n",
    "    connection = create_connection()\n",
    "    if connection is not None:\n",
    "        try:\n",
    "            cursor = connection.cursor()\n",
    "            # Consulta para obtener las primeras filas de la tabla\n",
    "            query = f\"SELECT * FROM {tabla} LIMIT %s;\"\n",
    "            cursor.execute(query, (num_filas,))\n",
    "            resultados = cursor.fetchall()\n",
    "            \n",
    "            # Obtener el nombre de las columnas\n",
    "            column_names = [desc[0] for desc in cursor.description]\n",
    "            print(f\"Resultados de la tabla '{tabla}':\")\n",
    "            print(f\"{' | '.join(column_names)}\")\n",
    "            for fila in resultados:\n",
    "                print(fila)\n",
    "        except (Exception, psycopg2.DatabaseError) as error:\n",
    "            print(f\"Error al mostrar resultados: {error}\")\n",
    "        finally:\n",
    "            cursor.close()\n",
    "            connection.close()\n",
    "    else:\n",
    "        print(\"No se pudo establecer la conexión con la base de datos.\")\n",
    "\n",
    "# Reemplaza 'diabetes_data' con el nombre de tu tabla\n",
    "mostrar_primeros_resultados('diabetes_data')"
   ]
  }
 ],
 "metadata": {
  "kernelspec": {
   "display_name": "venv",
   "language": "python",
   "name": "python3"
  },
  "language_info": {
   "codemirror_mode": {
    "name": "ipython",
    "version": 3
   },
   "file_extension": ".py",
   "mimetype": "text/x-python",
   "name": "python",
   "nbconvert_exporter": "python",
   "pygments_lexer": "ipython3",
   "version": "3.11.4"
  }
 },
 "nbformat": 4,
 "nbformat_minor": 2
}
